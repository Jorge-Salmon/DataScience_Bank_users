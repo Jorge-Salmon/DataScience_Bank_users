{
 "cells": [
  {
   "cell_type": "markdown",
   "metadata": {},
   "source": [
    "# Data science project: customer engagement and churn\n",
    "### Synthetic dataset: customers of a european bank.\n",
    "\n",
    "by Jorge U. Salmon-Gamboa\n",
    "\n",
    "#### Engaged vs unengaged user\n",
    "\n",
    "An engaged user is a user that brings value to a company throughout a period of time, depending on two parameters: Actions (completed transactions and successful referrals) and Type of account (only Premium and Metal bring value). Premium and Metal customers bring value by monthly paying their subscriptions, and usually those customers are the most engaged by making a lot of actions on a regular basis. The real challenge is engaging Standard customers.\n",
    "\n",
    "Having this in mind, it is possible to define engaged customer vs disengaged customer as follows:\n",
    "\n",
    "\"A customer is automatically considered engaged if his/her account is Premium or Metal. Customers with Standard accounts are considered engaged if they sum up at least 8 points over a period of 7 days.\"\n",
    "\n",
    "1.- A completed transaction has a value of 1 point\n",
    "\n",
    "2.- A referral has a value of 3 points\n",
    "\n",
    "The number 8 was chosen because that way it is ensured that a person doing in average slightly more than 1 transaction per day will be in the \"engaged-zone\". In reality, this number would depend on the goals of the company and other factors determined by other teams such as the Marketing Team, etc. \n",
    "\n",
    "To measure the amount of engagement of a customer we can define the target metric \"Number of actions made in the last 7 days\" as Customer Engagement (**CE**). This definition allows us to closely monitor users with four measurements within a Month. This is convinient to monitor the effect of notifications or key engagement actions taken by Revolut.\n",
    "\n",
    "Now, let's have a deeper look at the problem:"
   ]
  },
  {
   "cell_type": "markdown",
   "metadata": {},
   "source": [
    "## Notes:\n",
    "\n",
    "For the analysis ..."
   ]
  },
  {
   "cell_type": "code",
   "execution_count": 1,
   "metadata": {},
   "outputs": [],
   "source": [
    "# Necessary libraries\n",
    "import pandas as pd\n",
    "import numpy as np\n",
    "import matplotlib.pyplot as plt\n",
    "import seaborn as sns\n",
    "from array import *\n",
    "\n",
    "from sklearn.model_selection import train_test_split\n",
    "from sklearn.preprocessing import LabelEncoder\n",
    "from sklearn.ensemble import GradientBoostingClassifier\n",
    "from sklearn.model_selection import cross_val_score\n",
    "from sklearn.metrics import accuracy_score, precision_score, recall_score\n",
    "from sklearn.metrics import f1_score, roc_auc_score, roc_curve"
   ]
  },
  {
   "cell_type": "code",
   "execution_count": 2,
   "metadata": {},
   "outputs": [],
   "source": [
    "# Dafatrame with CE of 5 random customers over a period of 12 weeks (starting from the 12 of Feb 2019)\n",
    "df_1=pd.read_csv('CE_Feb_Apr_2019.csv', index_col=0)"
   ]
  },
  {
   "cell_type": "code",
   "execution_count": 3,
   "metadata": {},
   "outputs": [
    {
     "data": {
      "text/html": [
       "<div>\n",
       "<style scoped>\n",
       "    .dataframe tbody tr th:only-of-type {\n",
       "        vertical-align: middle;\n",
       "    }\n",
       "\n",
       "    .dataframe tbody tr th {\n",
       "        vertical-align: top;\n",
       "    }\n",
       "\n",
       "    .dataframe thead th {\n",
       "        text-align: right;\n",
       "    }\n",
       "</style>\n",
       "<table border=\"1\" class=\"dataframe\">\n",
       "  <thead>\n",
       "    <tr style=\"text-align: right;\">\n",
       "      <th></th>\n",
       "      <th>plan</th>\n",
       "      <th>ce_1st_week</th>\n",
       "      <th>ce_2nd_week</th>\n",
       "      <th>ce_3d_week</th>\n",
       "      <th>ce_4th_week</th>\n",
       "      <th>ce_5th_week</th>\n",
       "      <th>ce_6th_week</th>\n",
       "      <th>ce_7th_week</th>\n",
       "      <th>ce_8th_week</th>\n",
       "      <th>ce_9th_week1</th>\n",
       "      <th>ce_10th_week</th>\n",
       "      <th>ce_11th_week</th>\n",
       "      <th>ce_12th_week</th>\n",
       "    </tr>\n",
       "    <tr>\n",
       "      <th>user_id</th>\n",
       "      <th></th>\n",
       "      <th></th>\n",
       "      <th></th>\n",
       "      <th></th>\n",
       "      <th></th>\n",
       "      <th></th>\n",
       "      <th></th>\n",
       "      <th></th>\n",
       "      <th></th>\n",
       "      <th></th>\n",
       "      <th></th>\n",
       "      <th></th>\n",
       "      <th></th>\n",
       "    </tr>\n",
       "  </thead>\n",
       "  <tbody>\n",
       "    <tr>\n",
       "      <td>user_6386</td>\n",
       "      <td>STANDARD</td>\n",
       "      <td>0</td>\n",
       "      <td>0</td>\n",
       "      <td>0</td>\n",
       "      <td>0</td>\n",
       "      <td>0</td>\n",
       "      <td>0</td>\n",
       "      <td>1</td>\n",
       "      <td>0</td>\n",
       "      <td>3</td>\n",
       "      <td>3</td>\n",
       "      <td>11</td>\n",
       "      <td>17</td>\n",
       "    </tr>\n",
       "    <tr>\n",
       "      <td>user_4392</td>\n",
       "      <td>METAL</td>\n",
       "      <td>25</td>\n",
       "      <td>17</td>\n",
       "      <td>19</td>\n",
       "      <td>18</td>\n",
       "      <td>25</td>\n",
       "      <td>29</td>\n",
       "      <td>7</td>\n",
       "      <td>14</td>\n",
       "      <td>4</td>\n",
       "      <td>35</td>\n",
       "      <td>22</td>\n",
       "      <td>4</td>\n",
       "    </tr>\n",
       "    <tr>\n",
       "      <td>user_12413</td>\n",
       "      <td>STANDARD</td>\n",
       "      <td>6</td>\n",
       "      <td>2</td>\n",
       "      <td>4</td>\n",
       "      <td>6</td>\n",
       "      <td>2</td>\n",
       "      <td>4</td>\n",
       "      <td>0</td>\n",
       "      <td>2</td>\n",
       "      <td>4</td>\n",
       "      <td>6</td>\n",
       "      <td>4</td>\n",
       "      <td>2</td>\n",
       "    </tr>\n",
       "    <tr>\n",
       "      <td>user_8851</td>\n",
       "      <td>PREMIUM</td>\n",
       "      <td>15</td>\n",
       "      <td>8</td>\n",
       "      <td>0</td>\n",
       "      <td>14</td>\n",
       "      <td>4</td>\n",
       "      <td>12</td>\n",
       "      <td>10</td>\n",
       "      <td>3</td>\n",
       "      <td>9</td>\n",
       "      <td>5</td>\n",
       "      <td>7</td>\n",
       "      <td>9</td>\n",
       "    </tr>\n",
       "    <tr>\n",
       "      <td>user_17883</td>\n",
       "      <td>STANDARD</td>\n",
       "      <td>2</td>\n",
       "      <td>0</td>\n",
       "      <td>0</td>\n",
       "      <td>2</td>\n",
       "      <td>4</td>\n",
       "      <td>0</td>\n",
       "      <td>0</td>\n",
       "      <td>2</td>\n",
       "      <td>4</td>\n",
       "      <td>0</td>\n",
       "      <td>2</td>\n",
       "      <td>2</td>\n",
       "    </tr>\n",
       "  </tbody>\n",
       "</table>\n",
       "</div>"
      ],
      "text/plain": [
       "                plan  ce_1st_week  ce_2nd_week  ce_3d_week  ce_4th_week  \\\n",
       "user_id                                                                   \n",
       "user_6386   STANDARD            0            0           0            0   \n",
       "user_4392      METAL           25           17          19           18   \n",
       "user_12413  STANDARD            6            2           4            6   \n",
       "user_8851    PREMIUM           15            8           0           14   \n",
       "user_17883  STANDARD            2            0           0            2   \n",
       "\n",
       "            ce_5th_week  ce_6th_week  ce_7th_week  ce_8th_week  ce_9th_week1  \\\n",
       "user_id                                                                        \n",
       "user_6386             0            0            1            0             3   \n",
       "user_4392            25           29            7           14             4   \n",
       "user_12413            2            4            0            2             4   \n",
       "user_8851             4           12           10            3             9   \n",
       "user_17883            4            0            0            2             4   \n",
       "\n",
       "            ce_10th_week  ce_11th_week  ce_12th_week  \n",
       "user_id                                               \n",
       "user_6386              3            11            17  \n",
       "user_4392             35            22             4  \n",
       "user_12413             6             4             2  \n",
       "user_8851              5             7             9  \n",
       "user_17883             0             2             2  "
      ]
     },
     "execution_count": 3,
     "metadata": {},
     "output_type": "execute_result"
    }
   ],
   "source": [
    "df_1.head()"
   ]
  },
  {
   "cell_type": "markdown",
   "metadata": {},
   "source": [
    "Since we do not have the dates of creation for referrals, they will not be included in the target metric for this analysis. They could be weighed in, but I think it is more meaningful knowing the exact dates when the referrals were created. Nevertheless, the concept is the same. \n",
    "\n",
    "Let's have a look at the target metric:"
   ]
  },
  {
   "cell_type": "code",
   "execution_count": 4,
   "metadata": {},
   "outputs": [
    {
     "data": {
      "image/png": "[encoded data removed]",
      "text/plain": [
       "<Figure size 1152x432 with 1 Axes>"
      ]
     },
     "metadata": {
      "needs_background": "light"
     },
     "output_type": "display_data"
    }
   ],
   "source": [
    "# lists with data for the plot\n",
    "sample_x = [item for item in range(1,13)]\n",
    "sample_1_y = [df_1.loc['user_6386', item] for item in list(df_1)]\n",
    "sample_2_y = [df_1.loc['user_4392', item] for item in list(df_1)]\n",
    "sample_3_y = [df_1.loc['user_17883', item] for item in list(df_1)]\n",
    "sample_4_y = [df_1.loc['user_12413', item] for item in list(df_1)]\n",
    "sample_5_y = [df_1.loc['user_8851', item] for item in list(df_1)]\n",
    "\n",
    "fig, ax = plt.subplots(figsize=(16, 6))\n",
    "ax.plot(sample_x, sample_1_y[1:13], 'r', label = 'ID_6386 STD', linewidth=3.0)\n",
    "ax.plot(sample_x, sample_1_y[1:13], 'ro')  \n",
    "ax.plot(sample_x, sample_2_y[1:13], 'b', label = 'ID_4392 MTL', linewidth=3.0) \n",
    "ax.plot(sample_x, sample_2_y[1:13], 'bo') \n",
    "ax.plot(sample_x, sample_3_y[1:13], 'g', label = 'ID_17883 STD', linewidth=3.0)\n",
    "ax.plot(sample_x, sample_3_y[1:13], 'go')\n",
    "ax.plot(sample_x, sample_4_y[1:13], 'm', label = 'ID_12413 STD', linewidth=3.0)\n",
    "ax.plot(sample_x, sample_4_y[1:13], 'mo')\n",
    "ax.plot(sample_x, sample_5_y[1:13], 'c', label = 'ID_8851 PREM', linewidth=3.0)\n",
    "ax.plot(sample_x, sample_5_y[1:13], 'co')\n",
    "ax.plot(sample_x, [8 for i in range(1,13)], '--', c='k', label = 'CE threshold' )\n",
    "\n",
    "plt.xlabel('Week', fontsize=14)\n",
    "plt.ylabel('CE ( completed transactions/7 days )', fontsize=14)\n",
    "fig.suptitle('Customer engagement February - April 2019 of 5 random customers')\n",
    "#plt.grid(True)\n",
    "leg = ax.legend();"
   ]
  },
  {
   "cell_type": "markdown",
   "metadata": {},
   "source": [
    "As shown in the Figure above a customer can be engaged (above the threshold line) one week and become unengaged the week after (below the threshold line), or be unengaged and suddenly become engaged. Nevertheless, this plot seems too hectic if our goal is to defferentiate between engaged and disengaged customers in a longer term. It would be convenient to extend the definition of CE to **Instantaneous Customer Engagement (ICE)** and **Average User Engagement** as follows:  \n",
    "\n",
    "**ICE** = \"Number of actions made in the last 7 days, where a customers with Standard accounts are considered engaged if they sum up at least 8 points over the time period.\" This definition allows us to closely monitor users with four measurements within a Month. This is convinient to monitor the immediate effect of notifications or key engagement actions taken by Revolut.\n",
    "\n",
    "and\n",
    "\n",
    "**ACE** = \"Number of actions made in the last 4 weeks days, where a customers with Standard accounts are considered engaged if they sum up at least 32 points over the time period\". This definition allows us to quickly see which customers are engaged and which are not (see Figure below).\n"
   ]
  },
  {
   "cell_type": "code",
   "execution_count": 5,
   "metadata": {},
   "outputs": [
    {
     "data": {
      "text/html": [
       "<div>\n",
       "<style scoped>\n",
       "    .dataframe tbody tr th:only-of-type {\n",
       "        vertical-align: middle;\n",
       "    }\n",
       "\n",
       "    .dataframe tbody tr th {\n",
       "        vertical-align: top;\n",
       "    }\n",
       "\n",
       "    .dataframe thead th {\n",
       "        text-align: right;\n",
       "    }\n",
       "</style>\n",
       "<table border=\"1\" class=\"dataframe\">\n",
       "  <thead>\n",
       "    <tr style=\"text-align: right;\">\n",
       "      <th></th>\n",
       "      <th>plan</th>\n",
       "      <th>ce_4_weeks</th>\n",
       "      <th>ce_8_weeks</th>\n",
       "      <th>ce_12_weeks</th>\n",
       "    </tr>\n",
       "    <tr>\n",
       "      <th>user_id</th>\n",
       "      <th></th>\n",
       "      <th></th>\n",
       "      <th></th>\n",
       "      <th></th>\n",
       "    </tr>\n",
       "  </thead>\n",
       "  <tbody>\n",
       "    <tr>\n",
       "      <td>user_8851</td>\n",
       "      <td>PREMIUM</td>\n",
       "      <td>37</td>\n",
       "      <td>30</td>\n",
       "      <td>33</td>\n",
       "    </tr>\n",
       "    <tr>\n",
       "      <td>user_17883</td>\n",
       "      <td>STANDARD</td>\n",
       "      <td>4</td>\n",
       "      <td>8</td>\n",
       "      <td>10</td>\n",
       "    </tr>\n",
       "    <tr>\n",
       "      <td>user_4392</td>\n",
       "      <td>METAL</td>\n",
       "      <td>79</td>\n",
       "      <td>75</td>\n",
       "      <td>68</td>\n",
       "    </tr>\n",
       "    <tr>\n",
       "      <td>user_12413</td>\n",
       "      <td>STANDARD</td>\n",
       "      <td>20</td>\n",
       "      <td>8</td>\n",
       "      <td>16</td>\n",
       "    </tr>\n",
       "    <tr>\n",
       "      <td>user_6386</td>\n",
       "      <td>STANDARD</td>\n",
       "      <td>0</td>\n",
       "      <td>4</td>\n",
       "      <td>32</td>\n",
       "    </tr>\n",
       "  </tbody>\n",
       "</table>\n",
       "</div>"
      ],
      "text/plain": [
       "                plan  ce_4_weeks  ce_8_weeks  ce_12_weeks\n",
       "user_id                                                  \n",
       "user_8851    PREMIUM          37          30           33\n",
       "user_17883  STANDARD           4           8           10\n",
       "user_4392      METAL          79          75           68\n",
       "user_12413  STANDARD          20           8           16\n",
       "user_6386   STANDARD           0           4           32"
      ]
     },
     "execution_count": 5,
     "metadata": {},
     "output_type": "execute_result"
    }
   ],
   "source": [
    "# Same dataset as df_1 (the one above), but with the metric grouped by month (Average CE).\n",
    "\n",
    "df_2=pd.read_csv('AvgCE_Feb_Apr_2019.csv', index_col=0)\n",
    "df_2.head()"
   ]
  },
  {
   "cell_type": "code",
   "execution_count": 6,
   "metadata": {},
   "outputs": [
    {
     "data": {
      "image/png": "[encoded data removed]",
      "text/plain": [
       "<Figure size 1152x432 with 1 Axes>"
      ]
     },
     "metadata": {
      "needs_background": "light"
     },
     "output_type": "display_data"
    }
   ],
   "source": [
    "sample_x = ['4', '8', '12']\n",
    "sample_1_y = [df_2.loc['user_6386', item] for item in list(df_2)]\n",
    "sample_2_y = [df_2.loc['user_4392', item] for item in list(df_2)]\n",
    "sample_3_y = [df_2.loc['user_12413', item] for item in list(df_2)]\n",
    "sample_4_y = [df_2.loc['user_17883', item] for item in list(df_2)]\n",
    "sample_5_y = [df_2.loc['user_8851', item] for item in list(df_2)]\n",
    "\n",
    "fig, ax = plt.subplots(figsize=(16, 6))\n",
    "ax.plot(sample_x, sample_1_y[1:4], 'r', label = 'ID_6386 STD', linewidth=3.0)\n",
    "ax.plot(sample_x, sample_1_y[1:4], 'ro') \n",
    "ax.plot(sample_x, sample_2_y[1:4], 'b', label = 'ID_4392 MTL', linewidth=3.0)\n",
    "ax.plot(sample_x, sample_2_y[1:4], 'bo') \n",
    "ax.plot(sample_x, sample_3_y[1:4], 'g', label = 'ID_17883 STD', linewidth=3.0)\n",
    "ax.plot(sample_x, sample_3_y[1:4], 'go')\n",
    "ax.plot(sample_x, sample_4_y[1:4], 'm', label = 'ID_12413 STD', linewidth=3.0)\n",
    "ax.plot(sample_x, sample_4_y[1:4], 'mo')\n",
    "ax.plot(sample_x, sample_5_y[1:4], 'c', label = 'ID_8851 PREM', linewidth=3.0)\n",
    "ax.plot(sample_x, sample_5_y[1:4], 'co')\n",
    "ax.plot(sample_x, [32 for i in range(1,4)], '--', c='k', label = 'CE threshold' )\n",
    "\n",
    "plt.xlabel('Weeks', fontsize=14)\n",
    "plt.ylabel('Average CE ( completed transactions/4 weeks )', fontsize=14)\n",
    "fig.suptitle('Average CE February - April 2019 of 5 random customers')\n",
    "leg = ax.legend();"
   ]
  },
  {
   "cell_type": "markdown",
   "metadata": {},
   "source": [
    "Now it is more clear to see which customer is engaged (above the threshold line),  and which is not. For example, customer ID_4392 (blue line) is a long-term engaged customer. As mentioned at the beginning, this metric would be more meaninful if other actions are added, such as successful referrals, switch to a higher plan (Premium or Metal), etc.\n",
    "\n",
    "To classify engaged and unengaged users within a range of time from the past we only have to look at the Average CE (or instantaneous CE). Those whose numbers are above the CE threshold line are engaged users, whereas those below the threshold are unengaged users. This will be used to create a training dataset for the next step, customer churn prediction."
   ]
  },
  {
   "cell_type": "markdown",
   "metadata": {},
   "source": [
    "\n",
    "\n"
   ]
  },
  {
   "cell_type": "markdown",
   "metadata": {},
   "source": [
    "## Model to predict and identify churn users\n",
    "\n",
    "It is expected that date of birth, country, number of contacts and plan directly affect the level of engagement in a costumer. The number of referrals is zero for every user, so we can drop this feature. Also I dropped 43 rows having 'Unknown' as phone brand for simplicity, 43 out of 19,430 is less than 0.3%.\n",
    "\n",
    "Dataframe with data from a period of 8 weeks (2018/02/01 - 2018/03/29) having all the users. Within this range of dates all users from the dataset have already created their accounts and are within the Revolut system."
   ]
  },
  {
   "cell_type": "code",
   "execution_count": 7,
   "metadata": {},
   "outputs": [],
   "source": [
    "# Metrics. Some useful functions to measure the quality of the predictions.\n",
    "\n",
    "def cv_scores(model, x,y):\n",
    "    scores=cross_val_score(model, x, y, cv=5)\n",
    "    return \"Cross-validation score: %0.2f (+/- %0.2f)\" % (scores.mean(), scores.std() * 2)\n",
    "\n",
    "def generate_report(y_val, y_pred):\n",
    "    print('Accuracy = ', accuracy_score(y_val, y_pred))\n",
    "    print('Precision = ', precision_score(y_val, y_pred))\n",
    "    print('Recall = ', recall_score(y_val, y_pred))\n",
    "    print('f1_score =', f1_score(y_val, y_pred))\n",
    "    pass\n",
    "\n",
    "def generate_auc_roc_curve(model, X_val):\n",
    "    y_pred_prob = model.predict_proba(X_val)[:, 1]\n",
    "    fpr, tpr, thresholds = roc_curve(y_val, y_pred_prob)\n",
    "    auc = roc_auc_score(y_val, y_pred_prob)\n",
    "    plt.plot(fpr, tpr, label = 'AUC ROC =' + str(auc))\n",
    "    plt.legend(loc = 4)\n",
    "    plt.show()\n",
    "    pass"
   ]
  },
  {
   "cell_type": "code",
   "execution_count": 8,
   "metadata": {},
   "outputs": [
    {
     "data": {
      "text/html": [
       "<div>\n",
       "<style scoped>\n",
       "    .dataframe tbody tr th:only-of-type {\n",
       "        vertical-align: middle;\n",
       "    }\n",
       "\n",
       "    .dataframe tbody tr th {\n",
       "        vertical-align: top;\n",
       "    }\n",
       "\n",
       "    .dataframe thead th {\n",
       "        text-align: right;\n",
       "    }\n",
       "</style>\n",
       "<table border=\"1\" class=\"dataframe\">\n",
       "  <thead>\n",
       "    <tr style=\"text-align: right;\">\n",
       "      <th></th>\n",
       "      <th>user_id</th>\n",
       "      <th>brand</th>\n",
       "      <th>plan</th>\n",
       "      <th>age</th>\n",
       "      <th>country</th>\n",
       "      <th>num_contacts</th>\n",
       "      <th>num_transactions</th>\n",
       "    </tr>\n",
       "  </thead>\n",
       "  <tbody>\n",
       "    <tr>\n",
       "      <td>0</td>\n",
       "      <td>user_6386</td>\n",
       "      <td>Android</td>\n",
       "      <td>STANDARD</td>\n",
       "      <td>47</td>\n",
       "      <td>ES</td>\n",
       "      <td>0</td>\n",
       "      <td>4</td>\n",
       "    </tr>\n",
       "    <tr>\n",
       "      <td>1</td>\n",
       "      <td>user_3071</td>\n",
       "      <td>Apple</td>\n",
       "      <td>STANDARD</td>\n",
       "      <td>21</td>\n",
       "      <td>ES</td>\n",
       "      <td>2</td>\n",
       "      <td>3</td>\n",
       "    </tr>\n",
       "    <tr>\n",
       "      <td>2</td>\n",
       "      <td>user_4392</td>\n",
       "      <td>Android</td>\n",
       "      <td>METAL</td>\n",
       "      <td>24</td>\n",
       "      <td>IE</td>\n",
       "      <td>38</td>\n",
       "      <td>154</td>\n",
       "    </tr>\n",
       "    <tr>\n",
       "      <td>3</td>\n",
       "      <td>user_6931</td>\n",
       "      <td>Apple</td>\n",
       "      <td>STANDARD</td>\n",
       "      <td>53</td>\n",
       "      <td>GB</td>\n",
       "      <td>19</td>\n",
       "      <td>1</td>\n",
       "    </tr>\n",
       "    <tr>\n",
       "      <td>4</td>\n",
       "      <td>user_15764</td>\n",
       "      <td>Android</td>\n",
       "      <td>METAL</td>\n",
       "      <td>25</td>\n",
       "      <td>HR</td>\n",
       "      <td>7</td>\n",
       "      <td>6</td>\n",
       "    </tr>\n",
       "  </tbody>\n",
       "</table>\n",
       "</div>"
      ],
      "text/plain": [
       "      user_id    brand      plan  age country  num_contacts  num_transactions\n",
       "0   user_6386  Android  STANDARD   47      ES             0                 4\n",
       "1   user_3071    Apple  STANDARD   21      ES             2                 3\n",
       "2   user_4392  Android     METAL   24      IE            38               154\n",
       "3   user_6931    Apple  STANDARD   53      GB            19                 1\n",
       "4  user_15764  Android     METAL   25      HR             7                 6"
      ]
     },
     "execution_count": 8,
     "metadata": {},
     "output_type": "execute_result"
    }
   ],
   "source": [
    "df_data=pd.read_csv('data.csv')\n",
    "df_data.head()"
   ]
  },
  {
   "cell_type": "markdown",
   "metadata": {},
   "source": [
    "The features 'brand', 'plan', 'age', 'country' and 'num_contacts' seem to be the ones with higher impact on the target. None of the features from the notifications dataset will be included, since it is of interest to predict if a user will become a churn user."
   ]
  },
  {
   "cell_type": "markdown",
   "metadata": {},
   "source": [
    "**Pre-processing**\n",
    "\n",
    "Here the target column is added, the ages are grouped and the categorical values are numerically encoded."
   ]
  },
  {
   "cell_type": "code",
   "execution_count": 9,
   "metadata": {},
   "outputs": [],
   "source": [
    "# Adding the target column with unengaged:0 or engaged:1\n",
    "\n",
    "df_data['target']=0\n",
    "for i in range(19387):\n",
    "    if df_data.iloc[i,6] >= 64:\n",
    "        df_data.iloc[i,7]=1 "
   ]
  },
  {
   "cell_type": "code",
   "execution_count": 10,
   "metadata": {},
   "outputs": [
    {
     "data": {
      "text/html": [
       "<div>\n",
       "<style scoped>\n",
       "    .dataframe tbody tr th:only-of-type {\n",
       "        vertical-align: middle;\n",
       "    }\n",
       "\n",
       "    .dataframe tbody tr th {\n",
       "        vertical-align: top;\n",
       "    }\n",
       "\n",
       "    .dataframe thead th {\n",
       "        text-align: right;\n",
       "    }\n",
       "</style>\n",
       "<table border=\"1\" class=\"dataframe\">\n",
       "  <thead>\n",
       "    <tr style=\"text-align: right;\">\n",
       "      <th></th>\n",
       "      <th>user_id</th>\n",
       "      <th>brand</th>\n",
       "      <th>plan</th>\n",
       "      <th>age</th>\n",
       "      <th>country</th>\n",
       "      <th>num_contacts</th>\n",
       "      <th>num_transactions</th>\n",
       "      <th>target</th>\n",
       "    </tr>\n",
       "  </thead>\n",
       "  <tbody>\n",
       "    <tr>\n",
       "      <td>0</td>\n",
       "      <td>user_6386</td>\n",
       "      <td>Android</td>\n",
       "      <td>STANDARD</td>\n",
       "      <td>4</td>\n",
       "      <td>ES</td>\n",
       "      <td>0</td>\n",
       "      <td>4</td>\n",
       "      <td>0</td>\n",
       "    </tr>\n",
       "    <tr>\n",
       "      <td>1</td>\n",
       "      <td>user_3071</td>\n",
       "      <td>Apple</td>\n",
       "      <td>STANDARD</td>\n",
       "      <td>0</td>\n",
       "      <td>ES</td>\n",
       "      <td>2</td>\n",
       "      <td>3</td>\n",
       "      <td>0</td>\n",
       "    </tr>\n",
       "    <tr>\n",
       "      <td>2</td>\n",
       "      <td>user_4392</td>\n",
       "      <td>Android</td>\n",
       "      <td>METAL</td>\n",
       "      <td>1</td>\n",
       "      <td>IE</td>\n",
       "      <td>38</td>\n",
       "      <td>154</td>\n",
       "      <td>1</td>\n",
       "    </tr>\n",
       "    <tr>\n",
       "      <td>3</td>\n",
       "      <td>user_6931</td>\n",
       "      <td>Apple</td>\n",
       "      <td>STANDARD</td>\n",
       "      <td>4</td>\n",
       "      <td>GB</td>\n",
       "      <td>19</td>\n",
       "      <td>1</td>\n",
       "      <td>0</td>\n",
       "    </tr>\n",
       "    <tr>\n",
       "      <td>4</td>\n",
       "      <td>user_15764</td>\n",
       "      <td>Android</td>\n",
       "      <td>METAL</td>\n",
       "      <td>1</td>\n",
       "      <td>HR</td>\n",
       "      <td>7</td>\n",
       "      <td>6</td>\n",
       "      <td>0</td>\n",
       "    </tr>\n",
       "  </tbody>\n",
       "</table>\n",
       "</div>"
      ],
      "text/plain": [
       "      user_id    brand      plan  age country  num_contacts  num_transactions  \\\n",
       "0   user_6386  Android  STANDARD    4      ES             0                 4   \n",
       "1   user_3071    Apple  STANDARD    0      ES             2                 3   \n",
       "2   user_4392  Android     METAL    1      IE            38               154   \n",
       "3   user_6931    Apple  STANDARD    4      GB            19                 1   \n",
       "4  user_15764  Android     METAL    1      HR             7                 6   \n",
       "\n",
       "   target  \n",
       "0       0  \n",
       "1       0  \n",
       "2       1  \n",
       "3       0  \n",
       "4       0  "
      ]
     },
     "execution_count": 10,
     "metadata": {},
     "output_type": "execute_result"
    }
   ],
   "source": [
    "# Ages by group\n",
    "\n",
    "df_data.loc[(df_data['age'] > 16) & (df_data['age'] <= 22), 'age'] = 0\n",
    "df_data.loc[(df_data['age'] > 22) & (df_data['age'] <= 28), 'age'] = 1\n",
    "df_data.loc[(df_data['age'] > 28) & (df_data['age'] <= 34), 'age'] = 2\n",
    "df_data.loc[(df_data['age'] > 34) & (df_data['age'] <= 44), 'age'] = 3\n",
    "df_data.loc[(df_data['age'] > 45) & (df_data['age'] <= 60), 'age'] = 4\n",
    "df_data.loc[ df_data['age'] > 61, 'age'] = 5\n",
    "df_data.head()"
   ]
  },
  {
   "cell_type": "code",
   "execution_count": 11,
   "metadata": {},
   "outputs": [],
   "source": [
    "# Numerical encoding for categorical variables\n",
    "\n",
    "s = (df_data.dtypes == 'object')\n",
    "object_cols = list(s[s].index)\n",
    "X = df_data.drop(['num_transactions', 'target'], axis=1)\n",
    "y = df_data.target\n",
    "\n",
    "object_cols=list(X)\n",
    "\n",
    "label_encoder = LabelEncoder()\n",
    "for col in object_cols:\n",
    "    X[col] = label_encoder.fit_transform(X[col])"
   ]
  },
  {
   "cell_type": "code",
   "execution_count": 12,
   "metadata": {},
   "outputs": [
    {
     "data": {
      "text/html": [
       "<div>\n",
       "<style scoped>\n",
       "    .dataframe tbody tr th:only-of-type {\n",
       "        vertical-align: middle;\n",
       "    }\n",
       "\n",
       "    .dataframe tbody tr th {\n",
       "        vertical-align: top;\n",
       "    }\n",
       "\n",
       "    .dataframe thead th {\n",
       "        text-align: right;\n",
       "    }\n",
       "</style>\n",
       "<table border=\"1\" class=\"dataframe\">\n",
       "  <thead>\n",
       "    <tr style=\"text-align: right;\">\n",
       "      <th></th>\n",
       "      <th>user_id</th>\n",
       "      <th>brand</th>\n",
       "      <th>plan</th>\n",
       "      <th>age</th>\n",
       "      <th>country</th>\n",
       "      <th>num_contacts</th>\n",
       "    </tr>\n",
       "  </thead>\n",
       "  <tbody>\n",
       "    <tr>\n",
       "      <td>0</td>\n",
       "      <td>15384</td>\n",
       "      <td>0</td>\n",
       "      <td>5</td>\n",
       "      <td>4</td>\n",
       "      <td>10</td>\n",
       "      <td>0</td>\n",
       "    </tr>\n",
       "    <tr>\n",
       "      <td>1</td>\n",
       "      <td>11709</td>\n",
       "      <td>1</td>\n",
       "      <td>5</td>\n",
       "      <td>0</td>\n",
       "      <td>10</td>\n",
       "      <td>2</td>\n",
       "    </tr>\n",
       "    <tr>\n",
       "      <td>2</td>\n",
       "      <td>13174</td>\n",
       "      <td>0</td>\n",
       "      <td>0</td>\n",
       "      <td>1</td>\n",
       "      <td>21</td>\n",
       "      <td>38</td>\n",
       "    </tr>\n",
       "    <tr>\n",
       "      <td>3</td>\n",
       "      <td>15989</td>\n",
       "      <td>1</td>\n",
       "      <td>5</td>\n",
       "      <td>4</td>\n",
       "      <td>13</td>\n",
       "      <td>19</td>\n",
       "    </tr>\n",
       "    <tr>\n",
       "      <td>4</td>\n",
       "      <td>6392</td>\n",
       "      <td>0</td>\n",
       "      <td>0</td>\n",
       "      <td>1</td>\n",
       "      <td>19</td>\n",
       "      <td>7</td>\n",
       "    </tr>\n",
       "  </tbody>\n",
       "</table>\n",
       "</div>"
      ],
      "text/plain": [
       "   user_id  brand  plan  age  country  num_contacts\n",
       "0    15384      0     5    4       10             0\n",
       "1    11709      1     5    0       10             2\n",
       "2    13174      0     0    1       21            38\n",
       "3    15989      1     5    4       13            19\n",
       "4     6392      0     0    1       19             7"
      ]
     },
     "execution_count": 12,
     "metadata": {},
     "output_type": "execute_result"
    }
   ],
   "source": [
    "X.head()"
   ]
  },
  {
   "cell_type": "markdown",
   "metadata": {},
   "source": [
    "**Dealing with class imbalance - Undersampling**\n",
    "\n",
    "The dataset us utterly imbalanced, almost all the targets are zeroes. To avoid class imbalance effects upon the predictor, the classes are evened out 50% - 50% as follows:"
   ]
  },
  {
   "cell_type": "code",
   "execution_count": 13,
   "metadata": {},
   "outputs": [
    {
     "data": {
      "text/plain": [
       "2410"
      ]
     },
     "execution_count": 13,
     "metadata": {},
     "output_type": "execute_result"
    }
   ],
   "source": [
    "# Undersampling\n",
    "\n",
    "minority_class_length = len(df_data[df_data['target'] == 1])\n",
    "minority_class_indices = df_data[df_data['target'] == 1].index\n",
    "minority_class_length"
   ]
  },
  {
   "cell_type": "code",
   "execution_count": 14,
   "metadata": {},
   "outputs": [
    {
     "data": {
      "text/plain": [
       "2410"
      ]
     },
     "execution_count": 14,
     "metadata": {},
     "output_type": "execute_result"
    }
   ],
   "source": [
    "# Indices of the majority class\n",
    "\n",
    "majority_class_indices = df_data[df_data['target'] == 0].index\n",
    "\n",
    "# 2410 random majority indices are selected\n",
    "random_indices = np.random.choice(majority_class_indices, minority_class_length, replace = False)\n",
    "len(random_indices)"
   ]
  },
  {
   "cell_type": "code",
   "execution_count": 15,
   "metadata": {},
   "outputs": [],
   "source": [
    "# Creating the balanced dataframe and target vector\n",
    "\n",
    "undersampled_indices = np.concatenate([minority_class_indices, random_indices])\n",
    "X_undersampled = X.loc[undersampled_indices]\n",
    "y_undersampled = y.loc[undersampled_indices]"
   ]
  },
  {
   "cell_type": "code",
   "execution_count": 16,
   "metadata": {},
   "outputs": [
    {
     "data": {
      "text/plain": [
       "((4820, 6), (4820,))"
      ]
     },
     "execution_count": 16,
     "metadata": {},
     "output_type": "execute_result"
    }
   ],
   "source": [
    "X_undersampled.shape, y_undersampled.shape"
   ]
  },
  {
   "cell_type": "markdown",
   "metadata": {},
   "source": [
    "Dataset split into training and validation datasets."
   ]
  },
  {
   "cell_type": "code",
   "execution_count": 17,
   "metadata": {},
   "outputs": [],
   "source": [
    " X_train, X_val, y_train, y_val = train_test_split(X_undersampled, y_undersampled, test_size=0.3, random_state=1)"
   ]
  },
  {
   "cell_type": "markdown",
   "metadata": {},
   "source": [
    "**The model:  Gradient Boost Classifier from Sklearn**\n",
    "\n"
   ]
  },
  {
   "cell_type": "code",
   "execution_count": 18,
   "metadata": {},
   "outputs": [],
   "source": [
    "model_GBC = GradientBoostingClassifier(n_estimators=100, learning_rate=1.0, max_depth=1, random_state=0)\n",
    "model_GBC.fit(X_train, y_train)\n",
    "y_pred=model_GBC.predict(X_val)"
   ]
  },
  {
   "cell_type": "markdown",
   "metadata": {},
   "source": [
    "**The metrics**\n",
    "\n",
    "The metrics showing the quality of the classifier are presented here."
   ]
  },
  {
   "cell_type": "code",
   "execution_count": 19,
   "metadata": {},
   "outputs": [
    {
     "name": "stdout",
     "output_type": "stream",
     "text": [
      "Cross-validation score: 0.71 (+/- 0.03)\n"
     ]
    }
   ],
   "source": [
    "# Cross-validation \n",
    "print(cv_scores(GradientBoostingClassifier (n_estimators=100, learning_rate=1.0, max_depth=1, \n",
    "                                            random_state=0), X_train, y_train))\n"
   ]
  },
  {
   "cell_type": "code",
   "execution_count": 20,
   "metadata": {},
   "outputs": [
    {
     "name": "stdout",
     "output_type": "stream",
     "text": [
      "Accuracy =  0.7047026279391425\n",
      "Precision =  0.6955958549222798\n",
      "Recall =  0.7366255144032922\n",
      "f1_score = 0.715522984676882\n"
     ]
    }
   ],
   "source": [
    "# Metrics Report\n",
    "\n",
    "generate_report(y_val, y_pred)"
   ]
  },
  {
   "cell_type": "code",
   "execution_count": 21,
   "metadata": {},
   "outputs": [
    {
     "data": {
      "image/png": "[encoded data removed]",
      "text/plain": [
       "<Figure size 432x288 with 1 Axes>"
      ]
     },
     "metadata": {
      "needs_background": "light"
     },
     "output_type": "display_data"
    }
   ],
   "source": [
    "generate_auc_roc_curve(model_GBC, X_val)"
   ]
  },
  {
   "cell_type": "markdown",
   "metadata": {},
   "source": [
    "Given the chaotic nature of society and taking into account that only 5 features were used, the performance of the predictor was fairly good. In real practice, the accuracy would increase by adding other features from information not included in the datasets used here, or allowing to use information from the notification dataset (number of days between account creation and first succesful transaction, for example.)"
   ]
  },
  {
   "cell_type": "markdown",
   "metadata": {},
   "source": [
    "#### How would to set up a test/experiment to check whether we are actually reducing churn? What metrics and techniques would be used to assess the impact of the business action?\n",
    "\n",
    "**a)** \n",
    "\n",
    "For this purpose the Instantaneous Customer Engagement (**ICE**) metric could be used\n",
    "\n",
    "ICE = \"Number of actions made in the last 7 days, where a customers with Standard accounts are considered engaged if they sum up at least 8 points over the time period.\" This definition allows us to closely monitor users with four measurements within a Month. This is convinient to monitor the immediate effect of notifications or key engagement actions taken by Revolut.\n",
    "\n",
    "For the test two (or more) groups of unengaged users are selected. A set of notification (or other type of engagement) that might trigger certain actions (referrals, transactions or upgrade to a high tier account) are to be sent to one of the test groups. Subsequently, the ICE metric is measured for both the groups and that way it is possible to quantify the success of reducing churn. \n",
    "\n",
    "**b)**\n",
    "\n",
    "Studies can be carried out by systematically varying certain parameters of the sent notifications and then we can monitor and quantify the reaction of the targeted groups. We can also monitor the amount of active time a user spends using the mobile app, quantify how many times a user opens the app, which specific sections of the app the user is accessing, frequency of visit to the website on a browser, Google Reviews, etc.\n"
   ]
  }
 ],
 "metadata": {
  "kernelspec": {
   "display_name": "Python 3",
   "language": "python",
   "name": "python3"
  },
  "language_info": {
   "codemirror_mode": {
    "name": "ipython",
    "version": 3
   },
   "file_extension": ".py",
   "mimetype": "text/x-python",
   "name": "python",
   "nbconvert_exporter": "python",
   "pygments_lexer": "ipython3",
   "version": "3.7.4"
  }
 },
 "nbformat": 4,
 "nbformat_minor": 2
}
